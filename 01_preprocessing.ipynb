{
 "cells": [
  {
   "cell_type": "markdown",
   "metadata": {},
   "source": [
    "# Bone Fracture Detection using YOLOv8\n",
    "\n",
    "This Jupyter Notebook explores the application of deep learning for bone fracture detection using a comprehensive X-ray image dataset.  The dataset is specifically designed for computer vision projects and aims to facilitate the development and evaluation of automated bone fracture detection algorithms.\n",
    "\n",
    "## About the Dataset\n",
    "\n",
    "The dataset encompasses X-ray images categorized into several classes, each representing a specific type of bone fracture within the upper extremities. These classes include:\n",
    "\n",
    "*   Elbow Positive\n",
    "*   Fingers Positive\n",
    "*   Forearm Fracture\n",
    "*   Humerus Fracture\n",
    "*   Shoulder Fracture\n",
    "*   Wrist Positive\n",
    "\n",
    "Each image is annotated with either bounding boxes or pixel-level segmentation masks, precisely indicating the location and extent of the detected fracture. These annotations are crucial for training and evaluating bone fracture detection algorithms, particularly object detection models.\n",
    "\n",
    "This dataset provides a valuable resource for researchers and developers working on automated fracture detection. Its diverse range of fracture classes enables the training of robust models capable of accurately identifying fractures in various regions of the upper extremities. The ultimate goal of this dataset is to accelerate the development of computer vision solutions for automated fracture detection, thereby contributing to advancements in medical diagnostics and improved patient care.\n",
    "\n",
    "**When using this dataset for your research, please cite it using the following DOI:** 10.13140/RG.2.2.14400.34569\n",
    "\n",
    "**You can also find the dataset on ResearchGate:** [https://www.researchgate.net/publication/382268240_Bone_Fracture_Detection_Computer_Vision_Project](https://www.researchgate.net/publication/382268240_Bone_Fracture_Detection_Computer_Vision_Project)"
   ]
  },
  {
   "cell_type": "markdown",
   "metadata": {},
   "source": [
    "## Imports"
   ]
  },
  {
   "cell_type": "code",
   "execution_count": 39,
   "metadata": {},
   "outputs": [
    {
     "data": {
      "text/plain": [
       "([PhysicalDevice(name='/physical_device:GPU:0', device_type='GPU')], '2.18.0')"
      ]
     },
     "execution_count": 39,
     "metadata": {},
     "output_type": "execute_result"
    }
   ],
   "source": [
    "from tqdm.notebook import tqdm\n",
    "\n",
    "import glob\n",
    "import pathlib\n",
    "import opendatasets as od\n",
    "import os\n",
    "from dotenv import load_dotenv\n",
    "\n",
    "import tensorflow as tf\n",
    "from tensorflow import keras\n",
    "import cv2\n",
    "import numpy as np\n",
    "import matplotlib.pyplot as plt\n",
    "tf.config.list_physical_devices('GPU'), tf.__version__"
   ]
  },
  {
   "cell_type": "markdown",
   "metadata": {},
   "source": [
    "## Download datasets"
   ]
  },
  {
   "cell_type": "code",
   "execution_count": 40,
   "metadata": {},
   "outputs": [
    {
     "data": {
      "text/plain": [
       "True"
      ]
     },
     "execution_count": 40,
     "metadata": {},
     "output_type": "execute_result"
    }
   ],
   "source": [
    "# Loading kaggle keys\n",
    "load_dotenv()"
   ]
  },
  {
   "cell_type": "code",
   "execution_count": 41,
   "metadata": {},
   "outputs": [
    {
     "name": "stdout",
     "output_type": "stream",
     "text": [
      "The dotenv extension is already loaded. To reload it, use:\n",
      "  %reload_ext dotenv\n"
     ]
    }
   ],
   "source": [
    "%load_ext dotenv\n",
    "%dotenv"
   ]
  },
  {
   "cell_type": "code",
   "execution_count": 42,
   "metadata": {},
   "outputs": [
    {
     "name": "stdout",
     "output_type": "stream",
     "text": [
      "datasets/BoneFractureYolo8/train/\n"
     ]
    }
   ],
   "source": [
    "from hydra import initialize, compose\n",
    "from omegaconf import OmegaConf\n",
    "from hydra import main\n",
    "# https://gist.github.com/bdsaglam/586704a98336a0cf0a65a6e7c247d248\n",
    "\n",
    "with initialize(version_base=None, config_path=\"conf\"):\n",
    "    cfg = compose(config_name=\"config\")\n",
    "    print(cfg.DATASET_DIRS.TRAIN_DIR)"
   ]
  },
  {
   "cell_type": "code",
   "execution_count": 43,
   "metadata": {},
   "outputs": [],
   "source": [
    "\n",
    "if len(os.listdir(cfg.DATASET.DATASET_DIR)) == 0:\n",
    "    # Download the dataset\n",
    "    od.download(dataset_id_or_url=cfg.DATASET.BONE_FRACTURE_DETECTION_DATASET_URL,\n",
    "                data_dir=cfg.DATASET.DATASET_DIR)"
   ]
  },
  {
   "cell_type": "markdown",
   "metadata": {},
   "source": [
    "## Loading Images"
   ]
  },
  {
   "cell_type": "code",
   "execution_count": 44,
   "metadata": {},
   "outputs": [
    {
     "data": {
      "text/plain": [
       "{0: 'elbow positive',\n",
       " 1: 'fingers positive',\n",
       " 2: 'forearm fracture',\n",
       " 3: 'humerus fracture',\n",
       " 4: 'humerus',\n",
       " 5: 'shoulder fracture',\n",
       " 6: 'wrist positive'}"
      ]
     },
     "execution_count": 44,
     "metadata": {},
     "output_type": "execute_result"
    }
   ],
   "source": [
    "CLASS_NAMES = ['elbow positive',\n",
    "               'fingers positive',\n",
    "               'forearm fracture',\n",
    "               'humerus fracture',\n",
    "               'humerus',\n",
    "               'shoulder fracture',\n",
    "               'wrist positive']\n",
    "\n",
    "class_mapping = dict(zip(range(len(CLASS_NAMES)), CLASS_NAMES))\n",
    "class_mapping"
   ]
  },
  {
   "cell_type": "code",
   "execution_count": 45,
   "metadata": {},
   "outputs": [],
   "source": [
    "TRAIN_DIR = cfg.DATASET_DIRS.TRAIN_DIR\n",
    "VALIDATION_DIR = cfg.DATASET_DIRS.VALIDATION_DIR\n",
    "TEST_DIR = cfg.DATASET_DIRS.TEST_DIR\n",
    "\n",
    "TRAIN_IMAGE_DIR = f'{TRAIN_DIR}/images'\n",
    "TRAIN_LABELS_DIR = f'{TRAIN_DIR}/labels'\n",
    "\n",
    "VALID_IMAGE_DIR = f'{VALIDATION_DIR}/images'\n",
    "VALID_LABELS_DIR = f'{VALIDATION_DIR}/labels'\n",
    "\n",
    "TEST_IMAGE = f'{TEST_DIR}/images'\n",
    "TEST_LABELS = f'{TEST_DIR}/labels'\n",
    "\n",
    "IMG_SIZE = cfg.TRAIN.IMG_SIZE\n",
    "BATCH_SIZE = cfg.TRAIN.BATCH_SIZE"
   ]
  },
  {
   "cell_type": "code",
   "execution_count": 46,
   "metadata": {},
   "outputs": [
    {
     "data": {
      "application/vnd.jupyter.widget-view+json": {
       "model_id": "86d2b7d24131413783d20128e93cf176",
       "version_major": 2,
       "version_minor": 0
      },
      "text/plain": [
       "  0%|          | 0/3631 [00:00<?, ?it/s]"
      ]
     },
     "metadata": {},
     "output_type": "display_data"
    }
   ],
   "source": [
    "images = []\n",
    "class_ids = []\n",
    "bboxes = []\n",
    "for file_name in tqdm(os.listdir(TRAIN_IMAGE_DIR)):\n",
    "    if file_name.endswith((\".jpg\", \".png\")):\n",
    "        imaga_file_path = os.path.join(TRAIN_IMAGE_DIR, file_name)\n",
    "        label_file_path = os.path.join(TRAIN_LABELS_DIR, file_name.replace(\n",
    "            \".jpg\", \".txt\").replace(\".png\", \".txt\"))\n",
    "\n",
    "        if not os.path.exists(label_file_path):\n",
    "            print(f\"Label file not found for image: {imaga_file_path}\")\n",
    "            continue\n",
    "\n",
    "        with open(label_file_path, 'r') as f:\n",
    "            lines = f.readlines()\n",
    "        for line in lines:\n",
    "            # 0 0.458736435546875 0.3806510419921875 0.3614540244140625 0.389472591796875 0.36892872265625 0.48237111328125 0.457112263671875 0.471341630859375 0.458736435546875 0.3806510419921875\n",
    "            try:\n",
    "                values = [value for value in line.split()]\n",
    "                class_id, *coords = map(float, values)\n",
    "                images.append(imaga_file_path)\n",
    "                class_ids.append(int(class_id))\n",
    "                bboxes.append(np.array(coords))\n",
    "\n",
    "            except Exception as e:\n",
    "                print(f\"[ERROR] - {e}\")\n",
    "                continue"
   ]
  },
  {
   "cell_type": "code",
   "execution_count": 47,
   "metadata": {},
   "outputs": [
    {
     "data": {
      "text/plain": [
       "'humerus'"
      ]
     },
     "execution_count": 47,
     "metadata": {},
     "output_type": "execute_result"
    }
   ],
   "source": [
    "class_mapping[class_ids[15]]"
   ]
  },
  {
   "cell_type": "markdown",
   "metadata": {},
   "source": [
    "### YOLOv8 Annotations Explanation\n",
    "\n",
    "In YOLOv8, annotations are used to define the bounding boxes around objects in an image. These annotations are typically stored in text files with the same name as the image files but with a `.txt` extension. Each line in the annotation file represents one object and contains the following information:\n",
    "\n",
    "1. **Class ID**: The class label of the object.\n",
    "2. **Center X**: The x-coordinate of the center of the bounding box, normalized by the width of the image.\n",
    "3. **Center Y**: The y-coordinate of the center of the bounding box, normalized by the height of the image.\n",
    "4. **Width**: The width of the bounding box, normalized by the width of the image.\n",
    "5. **Height**: The height of the bounding box, normalized by the height of the image.\n",
    "\n",
    "A sample annotation line might look like this:\n",
    "\n",
    "This means:\n",
    "- Class ID: 0\n",
    "- Center X: 50% of the image width\n",
    "- Center Y: 50% of the image height\n",
    "- Width: 20% of the image width\n",
    "- Height: 30% of the image height\n",
    "\n",
    "### Normalization\n",
    "\n",
    "Normalization is the process of scaling the bounding box coordinates to a range of [0, 1]. This is done to make the model invariant to the actual size of the image. The formula for normalization is:\n",
    "$$ \\text{normalized\\_x} = \\frac{\\text{center\\_x}}{\\text{image\\_width}} $$\n",
    "$$ \\text{normalized\\_y} = \\frac{\\text{center\\_y}}{\\text{image\\_height}} $$\n",
    "$$ \\text{normalized\\_width} = \\frac{\\text{bbox\\_width}}{\\text{image\\_width}} $$\n",
    "$$ \\text{normalized\\_height} = \\frac{\\text{bbox\\_height}}{\\text{image\\_height}} $$\n",
    "\n",
    "### Unnormalization\n",
    "\n",
    "To plot the bounding boxes on the image, you need to unnormalize the coordinates. This means converting the normalized coordinates back to the original image dimensions. The formula for unnormalization is:\n",
    "$$ \\text{center\\_x} = \\text{normalized\\_x} \\times \\text{image\\_width} $$\n",
    "$$ \\text{center\\_y} = \\text{normalized\\_y} \\times \\text{image\\_height} $$\n",
    "$$ \\text{bbox\\_width} = \\text{normalized\\_width} \\times \\text{image\\_width} $$\n",
    "$$ \\text{bbox\\_height} = \\text{normalized\\_height} \\times \\text{image\\_height} $$"
   ]
  },
  {
   "cell_type": "code",
   "execution_count": 53,
   "metadata": {},
   "outputs": [
    {
     "name": "stdout",
     "output_type": "stream",
     "text": [
      "[0.48377458 0.56366745 0.32412773 0.4986977  0.25797641 0.63534535\n",
      " 0.3899155  0.68953555 0.48377458 0.56366745]\n"
     ]
    },
    {
     "data": {
      "image/png": "[encoded data removed]",
      "text/plain": [
       "<Figure size 640x480 with 1 Axes>"
      ]
     },
     "metadata": {},
     "output_type": "display_data"
    }
   ],
   "source": [
    "def unnormalize_bbox(image, coords):\n",
    "\n",
    "    h, w, _ = image.shape\n",
    "    # class_id, *coords = bbox\n",
    "    print(coords)\n",
    "    coords = np.array(coords).reshape(-1, 2)\n",
    "\n",
    "    coords[:, 0] *= w\n",
    "    coords[:, 1] *= h\n",
    "    return coords\n",
    "\n",
    "\n",
    "def plot_bbox(image, class_id,  bbox):\n",
    "    coords = unnormalize_bbox(image, bbox)\n",
    "    coords = coords.astype(int)\n",
    "    for i in range(len(coords)):\n",
    "        cv2.line(image, tuple(coords[i]), tuple(\n",
    "            coords[(i + 1) % len(coords)]), (0, 255, 0), 2)\n",
    "    cv2.putText(image, str(class_id), tuple(\n",
    "        coords[0]), cv2.FONT_HERSHEY_SIMPLEX, 0.5, (0, 255, 0), 2)\n",
    "    plt.title(str(class_mapping[class_id]))\n",
    "    plt.imshow(image)\n",
    "    plt.show()\n",
    "\n",
    "\n",
    "plot_bbox(cv2.resize(cv2.imread(images[15]),\n",
    "          (320, 320)), class_ids[15], bboxes[15])"
   ]
  },
  {
   "cell_type": "code",
   "execution_count": null,
   "metadata": {},
   "outputs": [],
   "source": []
  },
  {
   "cell_type": "code",
   "execution_count": null,
   "metadata": {},
   "outputs": [],
   "source": [
    "# TODO: filterr images with label and skip if the  label/file is empty\n",
    "\n",
    "class PrepareDataset:\n",
    "    def __init__(self, image_dir: str, label_dir: str) -> None:\n",
    "\n",
    "        self.images_path = [str(f)\n",
    "                            for f in sorted(pathlib.Path(image_dir).glob('*.jpg'))]\n",
    "        self.labels_path = [str(f)\n",
    "                            for f in sorted(pathlib.Path(label_dir).glob('*.txt'))]\n",
    "\n",
    "        # Ensure that you have same number of images and labels\n",
    "        if len(self.images_path) != len(self.labels_path):\n",
    "            raise ValueError(\n",
    "                \"Number of image files and label files do not match.\")\n",
    "        print(\n",
    "            f'[INOF] Number of images:{len(self.images_path)} and labels:{len(self.labels_path)}')\n",
    "\n",
    "    # def load_image(self, image_path: str):\n",
    "    #     \"\"\"Loads and preprocesses an image.\"\"\"\n",
    "    #     img = cv2.imread(image_path)  # Use cv2 for more image format support\n",
    "    #     if img is None:\n",
    "    #         raise ValueError(f\"Could not read image: {image_path}\")\n",
    "    #     # Convert to RGB (TensorFlow default)\n",
    "    #     # img = cv2.resize(img, (IMG_SIZE, IMG_SIZE))  # Resize if needed\n",
    "    #     # img = img / 255.0  # Normalize pixel values (important!)\n",
    "    #     return cv2.cvtColor(img, cv2.COLOR_BGR2RGB)\n",
    "\n",
    "    def get_ploting_dataset(self):\n",
    "        \"\"\"Loads and parses YOLOv8 labels.\"\"\"\n",
    "        labels = []\n",
    "        bboxes = []\n",
    "        image_paths = []\n",
    "\n",
    "        for image_pth, label_path in tqdm(zip(self.images_path, self.labels_path)):\n",
    "            try:\n",
    "                with open(label_path, 'r') as f:\n",
    "                    lines = f.readlines()\n",
    "            except FileNotFoundError:\n",
    "                continue\n",
    "            img = cv2.imread(image_pth)\n",
    "            H, W, _ = img.shape\n",
    "\n",
    "            for line in lines:\n",
    "                # 0 0.458736435546875 0.3806510419921875 0.3614540244140625 0.389472591796875 0.36892872265625 0.48237111328125 0.457112263671875 0.471341630859375 0.458736435546875 0.3806510419921875\n",
    "                try:\n",
    "                    values = [value for value in line.split()]\n",
    "\n",
    "                    # YOLO format is already normalized.\n",
    "                    labels.append(int(values[0]))\n",
    "\n",
    "                    x_center, y_center, w, h, *_ = map(float, values[1:])\n",
    "\n",
    "                    # Bounding box koordinatlarını hesapla\n",
    "                    x1 = int((x_center - w / 2) * W)\n",
    "                    y1 = int((y_center - h / 2) * H)\n",
    "                    x2 = int((x_center + w / 2) * W)\n",
    "                    y2 = int((y_center + h / 2) * H)\n",
    "\n",
    "                    bboxes.append(np.array([x1, y1, x2, y2]))\n",
    "                    image_paths.append(image_pth)\n",
    "                    print(bboxes)\n",
    "                except:\n",
    "                    continue\n",
    "\n",
    "        # return (tf.ragged.constant(image_paths), tf.ragged.constant(labels), tf.ragged.constant(bboxes))\n",
    "        return image_paths, labels, bboxes\n",
    "\n",
    "    def get_dataset(self):\n",
    "        \"\"\"Loads and parses YOLOv8 labels.\"\"\"\n",
    "        labels = []\n",
    "        bboxes = []\n",
    "        image_paths = []\n",
    "\n",
    "        for image_pth, label_path in tqdm(zip(self.images_path, self.labels_path)):\n",
    "            try:\n",
    "                with open(label_path, 'r') as f:\n",
    "                    lines = f.readlines()\n",
    "            except FileNotFoundError:\n",
    "                continue\n",
    "\n",
    "            for line in lines:\n",
    "                # 0 0.458736435546875 0.3806510419921875 0.3614540244140625 0.389472591796875 0.36892872265625 0.48237111328125 0.457112263671875 0.471341630859375 0.458736435546875 0.3806510419921875\n",
    "                try:\n",
    "                    values = [float(value) for value in line.split()]\n",
    "                    class_id = int(values[0])\n",
    "                    coords = np.array(values[1:])\n",
    "\n",
    "                    # YOLO format is already normalized.\n",
    "                    labels.append(class_id)\n",
    "                    bboxes.append(coords)\n",
    "                    image_paths.append(image_pth)\n",
    "                except:\n",
    "                    continue\n",
    "\n",
    "        return image_paths, labels, bboxes"
   ]
  },
  {
   "cell_type": "markdown",
   "metadata": {},
   "source": [
    "### Training Dataset setup"
   ]
  },
  {
   "cell_type": "code",
   "execution_count": null,
   "metadata": {},
   "outputs": [],
   "source": [
    "preparer_train_ds = PrepareDataset(image_dir=TRAIN_IMAGE_DIR,\n",
    "                                   label_dir=TRAIN_LABELS_DIR)\n",
    "image_paths_plt, labels_plt, bboxes_plt = preparer_train_ds.get_ploting_dataset()"
   ]
  },
  {
   "cell_type": "code",
   "execution_count": null,
   "metadata": {},
   "outputs": [],
   "source": [
    "# bboxes_tensor = tf.ragged.constant(bboxes)\n",
    "# classes_tensor = tf.ragged.constant(labels)\n",
    "# image_paths_tensor = tf.ragged.constant(image_paths)\n",
    "\n",
    "# train_data = tf.data.Dataset.from_tensor_slices(\n",
    "#     (image_paths_tensor, classes_tensor, bboxes_tensor))\n",
    "len(image_paths_plt), len(labels_plt), len(bboxes_plt)"
   ]
  },
  {
   "cell_type": "code",
   "execution_count": null,
   "metadata": {},
   "outputs": [],
   "source": [
    "# valid_datasets = PrepareDataset(image_dir=VALID_IMAGE_DIR,\n",
    "#                                 label_dir=VALID_LABELS_DIR)\n",
    "\n",
    "# valid_ds = tf.data.Dataset.from_tensor_slices((tf.ragged.constant(image_paths),\n",
    "#                                                tf.ragged.constant(labels),\n",
    "#                                                tf.ragged.constant(bboxes)))"
   ]
  },
  {
   "cell_type": "code",
   "execution_count": null,
   "metadata": {},
   "outputs": [],
   "source": [
    "def load_image(image_path):\n",
    "    image = tf.io.read_file(image_path)\n",
    "    image = tf.image.decode_jpeg(image, channels=3)\n",
    "    print(image.shape)\n",
    "    return image\n",
    "\n",
    "\n",
    "def load_dataset(image_path, classes, bbox):\n",
    "    # Read Image\n",
    "    image = load_image(image_path)\n",
    "    bounding_boxes = {\n",
    "        \"classes\": tf.cast(classes, dtype=tf.float32),\n",
    "        \"boxes\": bbox,\n",
    "    }\n",
    "    return {\"images\": tf.cast(image, tf.float32), \"bounding_boxes\": bounding_boxes}"
   ]
  },
  {
   "cell_type": "code",
   "execution_count": null,
   "metadata": {},
   "outputs": [],
   "source": [
    "images_path = [cv2.imread(str(f))\n",
    "               for f in sorted(pathlib.Path(TRAIN_IMAGE_DIR).glob('*.jpg'))]\n",
    "# load_dataset(images_path[0], labels[0], bboxes[0])\n",
    "images_path[0]"
   ]
  },
  {
   "cell_type": "code",
   "execution_count": null,
   "metadata": {},
   "outputs": [],
   "source": [
    "idx = 50\n",
    "class_idx = 1\n",
    "image = cv2.cvtColor(images_path[idx], cv2.COLOR_BGR2RGB)\n",
    "# image = cv2.resize(image, (320, 320))\n",
    "bbox = bboxes_plt[idx]"
   ]
  },
  {
   "cell_type": "code",
   "execution_count": null,
   "metadata": {},
   "outputs": [],
   "source": [
    "bbox[0], bbox[1], bbox[2], bbox[3]"
   ]
  },
  {
   "cell_type": "code",
   "execution_count": null,
   "metadata": {},
   "outputs": [],
   "source": [
    "# image = cv2.resize(image, (320, 320))\n",
    "height,  width, _ = image.shape\n",
    "\n",
    "x, y, w, h = int(bbox[0]), int(bbox[1]), int(bbox[2]), int(bbox[3])\n",
    "\n",
    "# xmin, ymin, xmax, ymax = unconvert(width, height, x, y, w, h)\n",
    "# print(xmin, ymin, xmax, ymax)\n",
    "sp, ep = (x, y), (w, h)\n",
    "_image = cv2.rectangle(image.copy(), sp, ep, (255, 0, 0), 2)\n",
    "\n",
    "\n",
    "plt.imshow(_image)\n",
    "plt.show()"
   ]
  },
  {
   "cell_type": "code",
   "execution_count": null,
   "metadata": {},
   "outputs": [],
   "source": [
    "train_ds = train_data.map(load_dataset, num_parallel_calls=tf.data.AUTOTUNE)\n",
    "train_ds = train_ds.shuffle(BATCH_SIZE * 4)\n",
    "train_ds = train_ds.ragged_batch(BATCH_SIZE, drop_remainder=True)"
   ]
  },
  {
   "cell_type": "code",
   "execution_count": null,
   "metadata": {},
   "outputs": [],
   "source": [
    "inputs = next(iter(train_ds.take(1)))\n",
    "images, bounding_boxes = inputs[\"images\"], inputs[\"bounding_boxes\"]\n",
    "image = images[0].numpy()\n",
    "images[0].get_shape()"
   ]
  },
  {
   "cell_type": "code",
   "execution_count": null,
   "metadata": {},
   "outputs": [],
   "source": []
  },
  {
   "cell_type": "code",
   "execution_count": null,
   "metadata": {},
   "outputs": [],
   "source": []
  }
 ],
 "metadata": {
  "kernelspec": {
   "display_name": ".venv",
   "language": "python",
   "name": "python3"
  },
  "language_info": {
   "codemirror_mode": {
    "name": "ipython",
    "version": 3
   },
   "file_extension": ".py",
   "mimetype": "text/x-python",
   "name": "python",
   "nbconvert_exporter": "python",
   "pygments_lexer": "ipython3",
   "version": "3.10.12"
  }
 },
 "nbformat": 4,
 "nbformat_minor": 2
}
